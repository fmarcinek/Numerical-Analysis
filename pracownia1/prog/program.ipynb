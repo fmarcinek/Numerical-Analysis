{
 "cells": [
  {
   "cell_type": "markdown",
   "metadata": {},
   "source": [
    "# Efektywne obliczanie sumy szeregu $\\sum_{k=1}^{\\infty}$ $\\frac{(-1)^{k+1}}{k^2+1}$ wraz z uogólnieniem na szeregi postaci $\\sum_{k=1}^{\\infty}$ $\\frac{(-1)^{k+1}}{k^n+1}$"
   ]
  },
  {
   "cell_type": "code",
   "execution_count": 17,
   "metadata": {},
   "outputs": [
    {
     "data": {
      "text/plain": [
       "statystykiBledowBezwzglS2 (generic function with 1 method)"
      ]
     },
     "execution_count": 17,
     "metadata": {},
     "output_type": "execute_result"
    }
   ],
   "source": [
    "include(\"numerki/pracownia1/szeregi.jl\")"
   ]
  },
  {
   "cell_type": "code",
   "execution_count": 22,
   "metadata": {},
   "outputs": [
    {
     "data": {
      "text/plain": [
       "0.3639854725089334"
      ]
     },
     "execution_count": 22,
     "metadata": {},
     "output_type": "execute_result"
    }
   ],
   "source": [
    "sumaS2"
   ]
  },
  {
   "cell_type": "markdown",
   "metadata": {},
   "source": [
    "## Metoda pierwsza"
   ]
  },
  {
   "cell_type": "markdown",
   "metadata": {},
   "source": [
    "Liczba kroków dla 10 cyfr dokładnych $S_n$.\n",
    "Wartość sumy $S_n$.\n",
    "Błąd bezwzględny."
   ]
  },
  {
   "cell_type": "code",
   "execution_count": 25,
   "metadata": {},
   "outputs": [
    {
     "name": "stdout",
     "output_type": "stream",
     "text": [
      "Iter: 141421 \t0.3639854725\t2.499995e-11\n"
     ]
    }
   ],
   "source": [
    "statystykiSumCzesciowychS2prec10([szukajSumyCzesciowej(0,2,10)], S2)"
   ]
  },
  {
   "cell_type": "markdown",
   "metadata": {},
   "source": [
    "Liczba kroków dla 16 cyfr dokładnych $S_n$.\n",
    "Wartość sumy $S_n$.\n",
    "Błąd bezwzględny.\n"
   ]
  },
  {
   "cell_type": "code",
   "execution_count": 26,
   "metadata": {},
   "outputs": [
    {
     "name": "stdout",
     "output_type": "stream",
     "text": [
      "Iter: 141421356 \t0.3639854725089334\t5.551115e-17\n"
     ]
    }
   ],
   "source": [
    "statystykiSumCzesciowychS2prec16([szukajSumyCzesciowej(0,2,16)], S2)"
   ]
  },
  {
   "cell_type": "code",
   "execution_count": 27,
   "metadata": {},
   "outputs": [
    {
     "name": "stdout",
     "output_type": "stream",
     "text": [
      "Liczba kroków: 10000, \t błąd bezwzgl.: 9.998000e-09\n",
      "Liczba kroków: 20000, \t błąd bezwzgl.: 2.499750e-09\n",
      "Liczba kroków: 30000, \t błąd bezwzgl.: 1.111037e-09\n",
      "Liczba kroków: 40000, \t błąd bezwzgl.: 6.249688e-10\n",
      "Liczba kroków: 50000, \t błąd bezwzgl.: 3.999840e-10\n",
      "Liczba kroków: 60000, \t błąd bezwzgl.: 2.777685e-10\n",
      "Liczba kroków: 70000, \t błąd bezwzgl.: 2.040758e-10\n",
      "Liczba kroków: 80000, \t błąd bezwzgl.: 1.562461e-10\n",
      "Liczba kroków: 90000, \t błąd bezwzgl.: 1.234540e-10\n",
      "Liczba kroków: 100000, \t błąd bezwzgl.: 9.999800e-11\n",
      "Liczba kroków: 110000, \t błąd bezwzgl.: 8.264313e-11\n",
      "Liczba kroków: 120000, \t błąd bezwzgl.: 6.944329e-11\n",
      "Liczba kroków: 130000, \t błąd bezwzgl.: 5.917069e-11\n",
      "Liczba kroków: 140000, \t błąd bezwzgl.: 5.101968e-11\n"
     ]
    }
   ],
   "source": [
    "statystykiBledowBezwzglS2([10000*x for x in range(1,14)],0,2)\n"
   ]
  },
  {
   "cell_type": "markdown",
   "metadata": {},
   "source": [
    "## Metoda druga"
   ]
  },
  {
   "cell_type": "markdown",
   "metadata": {},
   "source": [
    "Liczba kroków dla 10 cyfr dokładnych $S_n$.\n",
    "Wartość sumy $S_n$.\n",
    "Błąd bezwzględny."
   ]
  },
  {
   "cell_type": "code",
   "execution_count": 33,
   "metadata": {},
   "outputs": [
    {
     "name": "stdout",
     "output_type": "stream",
     "text": [
      "Iter: 376 \t0.3639854725\t2.488287e-11\n"
     ]
    }
   ],
   "source": [
    "statystykiSumCzesciowychS2prec10([szukajSumyCzesciowej(2,2,10)], trocheUlepszonyS2)"
   ]
  },
  {
   "cell_type": "markdown",
   "metadata": {},
   "source": [
    "Liczba kroków dla 16 cyfr dokładnych $S_n$.\n",
    "Wartość sumy $S_n$.\n",
    "Błąd bezwzględny."
   ]
  },
  {
   "cell_type": "code",
   "execution_count": 34,
   "metadata": {},
   "outputs": [
    {
     "name": "stdout",
     "output_type": "stream",
     "text": [
      "Iter: 11892 \t0.3639854725089334\t0.000000e+00\n"
     ]
    }
   ],
   "source": [
    "statystykiSumCzesciowychS2prec16([szukajSumyCzesciowej(2,2,16)], trocheUlepszonyS2)"
   ]
  },
  {
   "cell_type": "code",
   "execution_count": 32,
   "metadata": {},
   "outputs": [
    {
     "name": "stdout",
     "output_type": "stream",
     "text": [
      "Liczba kroków: 100, \t błąd bezwzgl.: 9.608861e-09\n",
      "Liczba kroków: 141, \t błąd bezwzgl.: 2.459377e-09\n",
      "Liczba kroków: 173, \t błąd bezwzgl.: 1.090909e-09\n",
      "Liczba kroków: 200, \t błąd bezwzgl.: 6.126395e-10\n",
      "Liczba kroków: 223, \t błąd bezwzgl.: 3.971909e-10\n",
      "Liczba kroków: 244, \t błąd bezwzgl.: 2.775418e-10\n",
      "Liczba kroków: 264, \t błąd bezwzgl.: 2.027731e-10\n",
      "Liczba kroków: 282, \t błąd bezwzgl.: 1.559010e-10\n",
      "Liczba kroków: 300, \t błąd bezwzgl.: 1.218230e-10\n",
      "Liczba kroków: 316, \t błąd bezwzgl.: 9.902814e-11\n",
      "Liczba kroków: 331, \t błąd bezwzgl.: 8.230832e-11\n",
      "Liczba kroków: 346, \t błąd bezwzgl.: 6.897290e-11\n",
      "Liczba kroków: 360, \t błąd bezwzgl.: 5.888001e-11\n",
      "Liczba kroków: 374, \t błąd bezwzgl.: 5.056754e-11\n"
     ]
    }
   ],
   "source": [
    "statystykiBledowBezwzglS2([floor(sqrt(10000*x)) for x in range(1,14)],2,2)"
   ]
  },
  {
   "cell_type": "markdown",
   "metadata": {},
   "source": [
    "## Metoda trzecia"
   ]
  },
  {
   "cell_type": "markdown",
   "metadata": {},
   "source": [
    "Liczba kroków dla 10 cyfr dokładnych $S_n$.\n",
    "Wartość sumy $S_n$.\n",
    "Błąd bezwzględny."
   ]
  },
  {
   "cell_type": "code",
   "execution_count": 35,
   "metadata": {},
   "outputs": [
    {
     "name": "stdout",
     "output_type": "stream",
     "text": [
      "Iter: 52 \t0.3639854725\t2.382478e-11\n"
     ]
    }
   ],
   "source": [
    "statystykiSumCzesciowychS2prec10([szukajSumyCzesciowej(4,2,10)], bardziejUlepszonyS2)"
   ]
  },
  {
   "cell_type": "markdown",
   "metadata": {},
   "source": [
    "Liczba kroków dla 16 cyfr dokładnych $S_n$.\n",
    "Wartość sumy $S_n$.\n",
    "Błąd bezwzględny."
   ]
  },
  {
   "cell_type": "code",
   "execution_count": 36,
   "metadata": {},
   "outputs": [
    {
     "name": "stdout",
     "output_type": "stream",
     "text": [
      "Iter: 521 \t0.3639854725089336\t1.665335e-16\n"
     ]
    }
   ],
   "source": [
    "statystykiSumCzesciowychS2prec16([szukajSumyCzesciowej(4,2,16)], bardziejUlepszonyS2)"
   ]
  },
  {
   "cell_type": "code",
   "execution_count": 30,
   "metadata": {},
   "outputs": [
    {
     "name": "stdout",
     "output_type": "stream",
     "text": [
      "Liczba kroków: 10, \t błąd bezwzgl.: 5.598471e-07\n",
      "Liczba kroków: 20, \t błąd bezwzgl.: 1.163324e-08\n",
      "Liczba kroków: 30, \t błąd bezwzgl.: 1.125585e-09\n",
      "Liczba kroków: 40, \t błąd bezwzgl.: 2.103965e-10\n",
      "Liczba kroków: 50, \t błąd bezwzgl.: 5.680833e-11\n",
      "Liczba kroków: 60, \t błąd bezwzgl.: 1.940458e-11\n",
      "Liczba kroków: 70, \t błąd bezwzgl.: 7.804836e-12\n"
     ]
    }
   ],
   "source": [
    "statystykiBledowBezwzglS2([10*x for x in range(1,7)],4,2)"
   ]
  }
 ],
 "metadata": {
  "kernelspec": {
   "display_name": "Julia 0.6.0",
   "language": "julia",
   "name": "julia-0.6"
  },
  "language_info": {
   "file_extension": ".jl",
   "mimetype": "application/julia",
   "name": "julia",
   "version": "0.6.0"
  }
 },
 "nbformat": 4,
 "nbformat_minor": 2
}
